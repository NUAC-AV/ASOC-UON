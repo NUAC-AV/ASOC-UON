{
 "cells": [
  {
   "cell_type": "markdown",
   "metadata": {},
   "source": [
    "# Walks"
   ]
  },
  {
   "cell_type": "code",
   "execution_count": 9,
   "metadata": {},
   "outputs": [],
   "source": [
    "import folium"
   ]
  },
  {
   "cell_type": "code",
   "execution_count": 21,
   "metadata": {},
   "outputs": [],
   "source": [
    "Names = [\"Nobby Breakwall\", \"Stockton Breakwall\", ]\n",
    "Locations = [[-32.924156832584664, 151.7912836163950],\n",
    "            [-32.91879584138724, 151.78333796630503], \n",
    "            [], ]\n",
    "Links = [\"https://www.google.com/maps/place/East+End+Beach+Parking+Area+-+Horseshoe+Beach/@-32.9236887,151.7910799,18.07z/data=!4m6!3m5!1s0x6b73147e2bf0100d:0xfffc85f51891a3b6!8m2!3d-32.922514!4d151.790882!16s%2Fg%2F11gd681jg2?entry=ttu\",\n",
    "         \"https://www.google.com/maps/place/Car+Park/@-32.9191859,151.7830461,19.63z/data=!4m6!3m5!1s0x6b731536f34ee44d:0x62aa05ab0e20218a!8m2!3d-32.91882!4d151.7832969!16s%2Fg%2F11fm17jly_?entry=ttu\",\n",
    "         ]\n",
    "\n",
    "Addresses = [\"Horseshoe Beach Rd, Newcastle East NSW 2300\", \"3 Hunter St, Stockton NSW 2295\",\n",
    "             \"3 Hunter St, Stockton NSW 2295\",\n",
    "             ]\n",
    "Descriptions = [\"We can walk accross the breakwall with possible extentions of the lighthouse. Or we can wall to city beach.\", \n",
    "                \"We can walk to the left until we reach the breakwall.\", \n",
    "                \"\",\n",
    "                ]\n"
   ]
  },
  {
   "cell_type": "code",
   "execution_count": 8,
   "metadata": {},
   "outputs": [
    {
     "data": {
      "text/plain": [
       "[-32.924156832584664, 151.791283616395]"
      ]
     },
     "execution_count": 8,
     "metadata": {},
     "output_type": "execute_result"
    }
   ],
   "source": [
    "Locations[0]"
   ]
  },
  {
   "cell_type": "code",
   "execution_count": 23,
   "metadata": {},
   "outputs": [
    {
     "data": {
      "text/html": [
       "<div style=\"width:100%;\"><div style=\"position:relative;width:100%;height:0;padding-bottom:60%;\"><span style=\"color:#565656\">Make this Notebook Trusted to load map: File -> Trust Notebook</span><iframe srcdoc=\"&lt;!DOCTYPE html&gt;\n",
       "&lt;html&gt;\n",
       "&lt;head&gt;\n",
       "    \n",
       "    &lt;meta http-equiv=&quot;content-type&quot; content=&quot;text/html; charset=UTF-8&quot; /&gt;\n",
       "    \n",
       "        &lt;script&gt;\n",
       "            L_NO_TOUCH = false;\n",
       "            L_DISABLE_3D = false;\n",
       "        &lt;/script&gt;\n",
       "    \n",
       "    &lt;style&gt;html, body {width: 100%;height: 100%;margin: 0;padding: 0;}&lt;/style&gt;\n",
       "    &lt;style&gt;#map {position:absolute;top:0;bottom:0;right:0;left:0;}&lt;/style&gt;\n",
       "    &lt;script src=&quot;https://cdn.jsdelivr.net/npm/leaflet@1.9.3/dist/leaflet.js&quot;&gt;&lt;/script&gt;\n",
       "    &lt;script src=&quot;https://code.jquery.com/jquery-3.7.1.min.js&quot;&gt;&lt;/script&gt;\n",
       "    &lt;script src=&quot;https://cdn.jsdelivr.net/npm/bootstrap@5.2.2/dist/js/bootstrap.bundle.min.js&quot;&gt;&lt;/script&gt;\n",
       "    &lt;script src=&quot;https://cdnjs.cloudflare.com/ajax/libs/Leaflet.awesome-markers/2.0.2/leaflet.awesome-markers.js&quot;&gt;&lt;/script&gt;\n",
       "    &lt;link rel=&quot;stylesheet&quot; href=&quot;https://cdn.jsdelivr.net/npm/leaflet@1.9.3/dist/leaflet.css&quot;/&gt;\n",
       "    &lt;link rel=&quot;stylesheet&quot; href=&quot;https://cdn.jsdelivr.net/npm/bootstrap@5.2.2/dist/css/bootstrap.min.css&quot;/&gt;\n",
       "    &lt;link rel=&quot;stylesheet&quot; href=&quot;https://netdna.bootstrapcdn.com/bootstrap/3.0.0/css/bootstrap-glyphicons.css&quot;/&gt;\n",
       "    &lt;link rel=&quot;stylesheet&quot; href=&quot;https://cdn.jsdelivr.net/npm/@fortawesome/fontawesome-free@6.2.0/css/all.min.css&quot;/&gt;\n",
       "    &lt;link rel=&quot;stylesheet&quot; href=&quot;https://cdnjs.cloudflare.com/ajax/libs/Leaflet.awesome-markers/2.0.2/leaflet.awesome-markers.css&quot;/&gt;\n",
       "    &lt;link rel=&quot;stylesheet&quot; href=&quot;https://cdn.jsdelivr.net/gh/python-visualization/folium/folium/templates/leaflet.awesome.rotate.min.css&quot;/&gt;\n",
       "    \n",
       "            &lt;meta name=&quot;viewport&quot; content=&quot;width=device-width,\n",
       "                initial-scale=1.0, maximum-scale=1.0, user-scalable=no&quot; /&gt;\n",
       "            &lt;style&gt;\n",
       "                #map_a38ba6ac9085ce38e4bb1e9eb08ab57c {\n",
       "                    position: relative;\n",
       "                    width: 100.0%;\n",
       "                    height: 100.0%;\n",
       "                    left: 0.0%;\n",
       "                    top: 0.0%;\n",
       "                }\n",
       "                .leaflet-container { font-size: 1rem; }\n",
       "            &lt;/style&gt;\n",
       "        \n",
       "&lt;/head&gt;\n",
       "&lt;body&gt;\n",
       "    \n",
       "    \n",
       "            &lt;div class=&quot;folium-map&quot; id=&quot;map_a38ba6ac9085ce38e4bb1e9eb08ab57c&quot; &gt;&lt;/div&gt;\n",
       "        \n",
       "&lt;/body&gt;\n",
       "&lt;script&gt;\n",
       "    \n",
       "    \n",
       "            var map_a38ba6ac9085ce38e4bb1e9eb08ab57c = L.map(\n",
       "                &quot;map_a38ba6ac9085ce38e4bb1e9eb08ab57c&quot;,\n",
       "                {\n",
       "                    center: [-32.924156832584664, 151.791283616395],\n",
       "                    crs: L.CRS.EPSG3857,\n",
       "                    zoom: 15,\n",
       "                    zoomControl: true,\n",
       "                    preferCanvas: false,\n",
       "                }\n",
       "            );\n",
       "\n",
       "            \n",
       "\n",
       "        \n",
       "    \n",
       "            var tile_layer_b5cf0d42d87d474ba51253968b8a9716 = L.tileLayer(\n",
       "                &quot;https://tile.openstreetmap.org/{z}/{x}/{y}.png&quot;,\n",
       "                {&quot;attribution&quot;: &quot;\\u0026copy; \\u003ca href=\\&quot;https://www.openstreetmap.org/copyright\\&quot;\\u003eOpenStreetMap\\u003c/a\\u003e contributors&quot;, &quot;detectRetina&quot;: false, &quot;maxNativeZoom&quot;: 19, &quot;maxZoom&quot;: 19, &quot;minZoom&quot;: 0, &quot;noWrap&quot;: false, &quot;opacity&quot;: 1, &quot;subdomains&quot;: &quot;abc&quot;, &quot;tms&quot;: false}\n",
       "            );\n",
       "        \n",
       "    \n",
       "            tile_layer_b5cf0d42d87d474ba51253968b8a9716.addTo(map_a38ba6ac9085ce38e4bb1e9eb08ab57c);\n",
       "        \n",
       "    \n",
       "            var marker_57ff6347d2a896587010dc5d9a05e6f8 = L.marker(\n",
       "                [-32.924156832584664, 151.791283616395],\n",
       "                {}\n",
       "            ).addTo(map_a38ba6ac9085ce38e4bb1e9eb08ab57c);\n",
       "        \n",
       "    \n",
       "        var popup_81d6960074e740c5c49001a8c38d59e2 = L.popup({&quot;maxWidth&quot;: &quot;100%&quot;});\n",
       "\n",
       "        \n",
       "            \n",
       "                var html_df53a4e5e3a55a5109d26e962955e6f7 = $(`&lt;div id=&quot;html_df53a4e5e3a55a5109d26e962955e6f7&quot; style=&quot;width: 100.0%; height: 100.0%;&quot;&gt;&lt;b&gt;Nobby Breakwall&lt;/b&gt;&lt;br&gt;&lt;a href=&#x27;https://www.google.com/maps/place/East+End+Beach+Parking+Area+-+Horseshoe+Beach/@-32.9236887,151.7910799,18.07z/data=!4m6!3m5!1s0x6b73147e2bf0100d:0xfffc85f51891a3b6!8m2!3d-32.922514!4d151.790882!16s%2Fg%2F11gd681jg2?entry=ttu&#x27; target=&#x27;_blank&#x27;&gt;Google Maps Link&lt;/a&gt;&lt;br&gt;Horseshoe Beach Rd, Newcastle East NSW 2300&lt;br&gt;We can walk accross the breakwall with possible extentions of the lighthouse. Or we can wall to city beach.&lt;/div&gt;`)[0];\n",
       "                popup_81d6960074e740c5c49001a8c38d59e2.setContent(html_df53a4e5e3a55a5109d26e962955e6f7);\n",
       "            \n",
       "        \n",
       "\n",
       "        marker_57ff6347d2a896587010dc5d9a05e6f8.bindPopup(popup_81d6960074e740c5c49001a8c38d59e2)\n",
       "        ;\n",
       "\n",
       "        \n",
       "    \n",
       "    \n",
       "            marker_57ff6347d2a896587010dc5d9a05e6f8.bindTooltip(\n",
       "                `&lt;div&gt;\n",
       "                     Nobby Breakwall\n",
       "                 &lt;/div&gt;`,\n",
       "                {&quot;sticky&quot;: true}\n",
       "            );\n",
       "        \n",
       "    \n",
       "            var marker_425c36c38d7a330845d972a3758e9377 = L.marker(\n",
       "                [-32.91879584138724, 151.78333796630503],\n",
       "                {}\n",
       "            ).addTo(map_a38ba6ac9085ce38e4bb1e9eb08ab57c);\n",
       "        \n",
       "    \n",
       "        var popup_ca366a8c145c418aa1925da5399ceebc = L.popup({&quot;maxWidth&quot;: &quot;100%&quot;});\n",
       "\n",
       "        \n",
       "            \n",
       "                var html_753ffdfab27ec643e42e5041b4fede2c = $(`&lt;div id=&quot;html_753ffdfab27ec643e42e5041b4fede2c&quot; style=&quot;width: 100.0%; height: 100.0%;&quot;&gt;&lt;b&gt;Stockton Breakwall&lt;/b&gt;&lt;br&gt;&lt;a href=&#x27;https://www.google.com/maps/place/Car+Park/@-32.9191859,151.7830461,19.63z/data=!4m6!3m5!1s0x6b731536f34ee44d:0x62aa05ab0e20218a!8m2!3d-32.91882!4d151.7832969!16s%2Fg%2F11fm17jly_?entry=ttu&#x27; target=&#x27;_blank&#x27;&gt;Google Maps Link&lt;/a&gt;&lt;br&gt;3 Hunter St, Stockton NSW 2295&lt;br&gt;We can walk to the left until we reach the breakwall.&lt;/div&gt;`)[0];\n",
       "                popup_ca366a8c145c418aa1925da5399ceebc.setContent(html_753ffdfab27ec643e42e5041b4fede2c);\n",
       "            \n",
       "        \n",
       "\n",
       "        marker_425c36c38d7a330845d972a3758e9377.bindPopup(popup_ca366a8c145c418aa1925da5399ceebc)\n",
       "        ;\n",
       "\n",
       "        \n",
       "    \n",
       "    \n",
       "            marker_425c36c38d7a330845d972a3758e9377.bindTooltip(\n",
       "                `&lt;div&gt;\n",
       "                     Stockton Breakwall\n",
       "                 &lt;/div&gt;`,\n",
       "                {&quot;sticky&quot;: true}\n",
       "            );\n",
       "        \n",
       "    \n",
       "            tile_layer_b5cf0d42d87d474ba51253968b8a9716.addTo(map_a38ba6ac9085ce38e4bb1e9eb08ab57c);\n",
       "        \n",
       "&lt;/script&gt;\n",
       "&lt;/html&gt;\" style=\"position:absolute;width:100%;height:100%;left:0;top:0;border:none !important;\" allowfullscreen webkitallowfullscreen mozallowfullscreen></iframe></div></div>"
      ],
      "text/plain": [
       "<folium.folium.Map at 0x127c514d0>"
      ]
     },
     "execution_count": 23,
     "metadata": {},
     "output_type": "execute_result"
    }
   ],
   "source": [
    "# Create a map centered around the first location\n",
    "m = folium.Map(location=Locations[0], zoom_start=15)\n",
    "\n",
    "# Add markers for each location\n",
    "for name, loc, link, address, desc in zip(Names, Locations, Links, Addresses, Descriptions):\n",
    "    folium.Marker(\n",
    "        location=loc,\n",
    "        popup=f\"<b>{name}</b><br><a href='{link}' target='_blank'>Google Maps Link</a><br>{address}<br>{desc}\",\n",
    "        tooltip=name\n",
    "    ).add_to(m)\n",
    "\n",
    "# Save the map as an HTML file\n",
    "m.save('locations_map.html')\n",
    "\n",
    "# Display the map\n",
    "m"
   ]
  }
 ],
 "metadata": {
  "kernelspec": {
   "display_name": "Python 3",
   "language": "python",
   "name": "python3"
  },
  "language_info": {
   "codemirror_mode": {
    "name": "ipython",
    "version": 3
   },
   "file_extension": ".py",
   "mimetype": "text/x-python",
   "name": "python",
   "nbconvert_exporter": "python",
   "pygments_lexer": "ipython3",
   "version": "3.11.7"
  }
 },
 "nbformat": 4,
 "nbformat_minor": 2
}
